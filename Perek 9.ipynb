{
 "cells": [
  {
   "cell_type": "markdown",
   "metadata": {},
   "source": [
    "# פרק ט׳\n",
    "(א)\n",
    "**שְׁנַּת הַחַמָּה**\n",
    "* יֵשׁ מֵחַכְמֵי יִשְׂרָאֵל שֶׁאוֹמְרִים שֶׁהִיא שְׁסַ''ה יוֹם וּרְבִיעַ יוֹם שֶׁהוּא שֵׁשׁ שָׁעוֹת.\n",
    "* וְיֵשׁ מֵהֶן שֶׁאוֹמְרִים שֶׁהוּא פָּחוֹת מֵרְבִיעַ הַיּוֹם.\n",
    "\n",
    " וְכֵן חַכְמֵי יָוָן וּפָרַס יֵשׁ בֵּינֵיהֶן מַחֲלֹקֶת בְּדָבָר זֶה:"
   ]
  },
  {
   "cell_type": "code",
   "execution_count": 1,
   "metadata": {},
   "outputs": [],
   "source": [
    "from timeMeasures import *\n",
    "SOLAR_YEAR = timeInterval(365.25)"
   ]
  },
  {
   "cell_type": "markdown",
   "metadata": {},
   "source": [
    "(ב)\n",
    "מִי שֶׁהוּא אוֹמֵר שֶׁהִיא שְׁסַ''ה יוֹם וּרְבִיעַ יוֹם.\n",
    "* **יִשָּׁאֵר מִכָּל מַחֲזוֹר** שֶׁל תְּשַׁע עֶשְׂרֵה שָׁנָה שָׁעָה אַחַת וְתפ''ה חֲלָקִים כְּמוֹ שֶׁאָמַרְנוּ.\n",
    "* וְיִהְיֶה **בֵּין תְּקוּפָה לִתְקוּפָה** אֶחָד וְתִשְׁעִים יוֹם וְשֶׁבַע שָׁעוֹת וַחֲצִי שָׁעָה.\n",
    "* וּמִשֶּׁתֵּדַע תְּקוּפָה אַחַת בְּאֵי זֶה יוֹם בְּאֵיזוֹ שָׁעָה הִיא תַּתְחִיל לִמְנוֹת מִמֶּנָּה לַתְּקוּפָה הַשְּׁנִיָּה שֶׁאַחֲרֶיהָ וּמִן הַשְּׁנִיָּה לַשְּׁלִישִׁית עַד סוֹף הָעוֹלָם:"
   ]
  },
  {
   "cell_type": "code",
   "execution_count": 2,
   "metadata": {},
   "outputs": [
    {
     "name": "stdout",
     "output_type": "stream",
     "text": [
      "0  1  485\n",
      "91  7  540\n"
     ]
    }
   ],
   "source": [
    "from calendarUnits import *\n",
    "SOLAR_CYCLE = SOLAR_YEAR * CYCLE_YEARS\n",
    "SOLAR_CYCLE_EXCESS = SOLAR_CYCLE - CYCLE\n",
    "print(SOLAR_CYCLE_EXCESS)\n",
    "SEASON_LENGTH = SOLAR_YEAR // 4\n",
    "print(SEASON_LENGTH)"
   ]
  },
  {
   "cell_type": "markdown",
   "metadata": {},
   "source": [
    "(ג)\n",
    "* תְּקוּפַת נִיסָן הִיא הַשָּׁעָה וְהַחֵלֶק שֶׁתִּכָּנֵס בּוֹ הַשֶּׁמֶשׁ בְּרֹאשׁ מַזַּל טָלֶה.\n",
    "* וּתְקוּפַת תַּמּוּז הֱיוֹת הַשֶּׁמֶשׁ בְּרֹאשׁ מַזַּל סַרְטָן.\n",
    "* וּתְקוּפַת תִּשְׁרֵי הֱיוֹת הַשֶּׁמֶשׁ בְּרֹאשׁ מַזַּל מֹאזְנַיִם.\n",
    "* וּתְקוּפַת טֵבֵת הֱיוֹת הַשֶּׁמֶשׁ בְּרֹאשׁ מַזַּל גְּדִי.\n",
    "\n",
    "**וּתְקוּפַת נִיסָן הָיְתָה בַּשָּׁנָה הָרִאשׁוֹנָה** שֶׁל יְצִירָה לְפִי חֶשְׁבּוֹן זֶה קֹדֶם מוֹלַד נִיסָן בְּשִׁבְעָה יָמִים וְתֵשַׁע שָׁעוֹת וְתרמ''ב חֲלָקִים, סִימָנָהּ ז''ט תרמ''ב:"
   ]
  },
  {
   "cell_type": "code",
   "execution_count": 3,
   "metadata": {},
   "outputs": [],
   "source": [
    "SEASON_BEFOR_MOLAD = timeInterval(7, 9, 642)"
   ]
  },
  {
   "cell_type": "markdown",
   "metadata": {},
   "source": [
    "Where does (7, 9, 642) come from? If we assume that on the year of creation the season of Tishrei occured on the Wednesday of the week with the molad, and the on that year the Nissan season started at the begining of the night (see halacha 4c), so that the Tishrei season occured at three hours into the day, we can then calculate how long before the molad of Tishrei this season occured, and from that when the season of Nissan was in relation to it's molad. We know that the molad of Tishre was on (6, 14, 0), so the season on (4, 15) was one day and 23 hours before that. Adding the length of two seasons, which is (182, 15), and (1, 23), and then subtracting the length of six months, which is (177, 4, 438) gives (7, 9, 642)."
   ]
  },
  {
   "cell_type": "code",
   "execution_count": 4,
   "metadata": {},
   "outputs": [
    {
     "name": "stdout",
     "output_type": "stream",
     "text": [
      "184 14    0\n",
      "177  4  438\n",
      "7  9  642\n"
     ]
    }
   ],
   "source": [
    "print(SEASON_LENGTH * 2 + (1, 23))\n",
    "print(LUNAR_MONTH * 6)\n",
    "print(SEASON_LENGTH * 2 + (1, 23) - LUNAR_MONTH * 6)"
   ]
  },
  {
   "cell_type": "markdown",
   "metadata": {},
   "source": [
    "(ד)\n",
    "דֶּרֶךְ חֶשְׁבּוֹן הַתְּקוּפָה כָּךְ הִיא.\n",
    "* תֵּדַע תְּחִלָּה כַּמָּה מַחֲזוֹרִין שְׁלֵמִים מִשְּׁנַת הַיְצִירָה עַד מַחֲזוֹר שֶׁתִּרְצֶה.\n",
    "* וְקַח לְכָל מַחֲזוֹר מֵהֶן שָׁעָה אַחַת וְתפ''ה חֲלָקִים.\n",
    "* קַבֵּץ כָּל הַחֲלָקִים שָׁעוֹת וְכָל הַשָּׁעוֹת יָמִים\n",
    "* וְתִגְרַע מִן הַכּל שִׁבְעָה יָמִים וְתֵשַׁע שָׁעוֹת וְתרמ''ב חֲלָקִים.\n",
    "* וְהַשְּׁאָר תּוֹסִיף אוֹתוֹ עַל מוֹלַד נִיסָן שֶׁל שָׁנָה רִאשׁוֹנָה מִן הַמַּחֲזוֹר.\n",
    "\n",
    "יֵצֵא לְךָ בְּאֵי זוֹ שָׁעָה וּבְכַמָּה בַּחֹדֶשׁ תִּהְיֶה תְּקוּפַת נִיסָן שֶׁל אוֹתָהּ הַשָּׁנָה מִן הַמַּחֲזוֹר.\n",
    "\n",
    "וּמִמֶּנָּה תַּתְחִיל לִמְנוֹת אֶחָד וְתִשְׁעִים יוֹם וְשֶׁבַע שָׁעוֹת וּמֶחֱצָה לְכָל תְּקוּפָה וּתְקוּפָה."
   ]
  },
  {
   "cell_type": "code",
   "execution_count": 5,
   "metadata": {},
   "outputs": [
    {
     "name": "stdout",
     "output_type": "stream",
     "text": [
      "2 1\n",
      "0  2  970\n",
      "-8 17  328\n",
      "-5 12    0\n",
      "86 19  540\n",
      "178  3    0\n"
     ]
    }
   ],
   "source": [
    "aYear = Year(39)\n",
    "print(aYear.cyclesToYear, aYear.placeInCycle)\n",
    "if aYear.placeInCycle == 1:\n",
    "    seasonTime = SOLAR_CYCLE_EXCESS * aYear.cyclesToYear\n",
    "    print(seasonTime)\n",
    "    seasonTime -= SEASON_BEFOR_MOLAD\n",
    "    print(seasonTime)\n",
    "    seasonTime += Month(aYear, 1).molad\n",
    "    print(seasonTime)\n",
    "    seasonTime += SEASON_LENGTH\n",
    "    print(seasonTime)\n",
    "    seasonTime += SEASON_LENGTH\n",
    "    print(seasonTime)"
   ]
  },
  {
   "cell_type": "markdown",
   "metadata": {},
   "source": [
    " וְאִם תִּרְצֶה לֵידַע תְּקוּפַת נִיסָן שֶׁל שָׁנָה זוֹ שֶׁהִיא שְׁנַת כָּךְ וְכָךְ בַּמַּחֲזוֹר שֶׁאַתָּה עוֹמֵד בּוֹ.\n",
    " * קַח לְכָל הַמַּחֲזוֹרִין הַשְּׁלֵמִים שָׁעָה וְתפ''ה לְכָל מַחֲזוֹר. וּלְכָל הַשָּׁנִים הַגְּמוּרוֹת שֶׁשָּׁלְמוּ מִן הַמַּחֲזוֹר עֲשָׂרָה יָמִים וְכ''א שָׁעוֹת וְר''ד חֲלָקִים לְכָל שָׁנָה וְקַבֵּץ הַכּל.\n",
    " * וְתִגְרַע מִמֶּנּוּ ז' יָמִים וְט' שָׁעוֹת וְתרמ''ב חֲלָקִים.\n",
    " * וְהַשְּׁאָר תַּשְׁלִיכֵם חָדְשֵׁי הַלְּבָנָה כ''ט יוֹם וְי''ב שָׁעוֹת וְז' מֵאוֹת וְצ''ג חֲלָקִים.\n",
    " * וְהַנִּשְׁאָר פָּחוֹת מֵחֹדֶשׁ הַלְּבָנָה תּוֹסִיף אוֹתוֹ עַל מוֹלַד נִיסָן שֶׁל אוֹתָהּ הַשָּׁנָה.\n",
    " * וְתֵדַע זְמַן תְּקוּפַת נִיסָן שֶׁל אוֹתָהּ הַשָּׁנָה בְּכַמָּה יוֹם בַּחֹדֶשׁ הִיא וּבְכַמָּה שָׁעָה."
   ]
  },
  {
   "cell_type": "code",
   "execution_count": 34,
   "metadata": {},
   "outputs": [
    {
     "name": "stdout",
     "output_type": "stream",
     "text": [
      "0 2\n",
      "10 21  204\n",
      "3 11  642\n",
      "-27 22  929\n",
      "1 18  438\n",
      "-25 17  287\n"
     ]
    }
   ],
   "source": [
    "SOLAR_YEAR_EXCESS = SOLAR_YEAR - LUNAR_YEAR\n",
    "aYear = Year(2) #(4929)\n",
    "print(aYear.cyclesToYear, aYear.placeInCycle)\n",
    "seasonTime = SOLAR_CYCLE_EXCESS * aYear.cyclesToYear + SOLAR_YEAR_EXCESS * (aYear.placeInCycle -1)\n",
    "print(seasonTime)\n",
    "seasonTime -= SEASON_BEFOR_MOLAD\n",
    "print(seasonTime)\n",
    "while seasonTime > (LUNAR_MONTH if aYear.yearsFromCreation > 2338 else timeInterval()):\n",
    "    seasonTime -= LUNAR_MONTH\n",
    "print(seasonTime)\n",
    "print(Month(aYear, 13).molad)   #See halacha 6\n",
    "seasonTime += Month(aYear, 13).molad\n",
    "print(seasonTime)"
   ]
  },
  {
   "cell_type": "code",
   "execution_count": 21,
   "metadata": {},
   "outputs": [
    {
     "name": "stdout",
     "output_type": "stream",
     "text": [
      "2338\n"
     ]
    }
   ],
   "source": [
    "aYear = Year(1)\n",
    "while SOLAR_CYCLE_EXCESS * aYear.cyclesToYear - SEASON_BEFOR_MOLAD < (0,):\n",
    "    aYear = Year(aYear.yearsFromCreation + 19)\n",
    "print(aYear.yearsFromCreation)\n"
   ]
  },
  {
   "cell_type": "markdown",
   "metadata": {},
   "source": [
    "* תְּקוּפַת נִיסָן לְפִי חֶשְׁבּוֹן זֶה אֵינָהּ לְעוֹלָם אֶלָּא אוֹ בִּתְחִלַּת הַלַּיְלָה אוֹ בַּחֲצִי הַלַּיְלָה אוֹ בִּתְחִלַּת הַיּוֹם אוֹ בַּחֲצִי הַיּוֹם.\n",
    "* וּתְקוּפַת תַּמּוּז לְעוֹלָם אֵינָהּ אֶלָּא אוֹ בְּז' שָׁעוֹת וּמֶחֱצָה אוֹ בְּשָׁעָה אַחַת וּמֶחֱצָה בֵּין בַּיּוֹם בֵּין בַּלַּיְלָה.\n",
    "* וּתְקוּפַת תִּשְׁרֵי לְעוֹלָם אֵינָהּ אֶלָּא אוֹ בְּט' שָׁעוֹת אוֹ בְּג' שָׁעוֹת בֵּין בַּיּוֹם בֵּין בַּלַּיְלָה.\n",
    "* וּתְקוּפַת טֵבֵת לְעוֹלָם אֵינָהּ אֶלָּא אוֹ בְּי' שָׁעוֹת וּמֶחֱצָה אוֹ בְּאַרְבַּע שָׁעוֹת וּמֶחֱצָה בֵּין בַּיּוֹם בֵּין בַּלַּיְלָה."
   ]
  },
  {
   "cell_type": "code",
   "execution_count": 25,
   "metadata": {},
   "outputs": [
    {
     "ename": "AssertionError",
     "evalue": "",
     "output_type": "error",
     "traceback": [
      "\u001b[0;31m---------------------------------------------------------------------------\u001b[0m",
      "\u001b[0;31mAssertionError\u001b[0m                            Traceback (most recent call last)",
      "\u001b[0;32m/tmp/ipykernel_5292/2140051307.py\u001b[0m in \u001b[0;36m<module>\u001b[0;34m\u001b[0m\n\u001b[1;32m     10\u001b[0m     \u001b[0maYear\u001b[0m \u001b[0;34m=\u001b[0m \u001b[0mSolarYear\u001b[0m\u001b[0;34m(\u001b[0m\u001b[0mYear\u001b[0m\u001b[0;34m(\u001b[0m\u001b[0my\u001b[0m\u001b[0;34m)\u001b[0m\u001b[0;34m)\u001b[0m\u001b[0;34m\u001b[0m\u001b[0;34m\u001b[0m\u001b[0m\n\u001b[1;32m     11\u001b[0m     \u001b[0mthisSeason\u001b[0m \u001b[0;34m=\u001b[0m \u001b[0maYear\u001b[0m\u001b[0;34m.\u001b[0m\u001b[0mseason\u001b[0m\u001b[0;34m(\u001b[0m\u001b[0;36m0\u001b[0m\u001b[0;34m)\u001b[0m\u001b[0;34m\u001b[0m\u001b[0;34m\u001b[0m\u001b[0m\n\u001b[0;32m---> 12\u001b[0;31m     \u001b[0;32massert\u001b[0m \u001b[0mthisSeason\u001b[0m\u001b[0;34m.\u001b[0m\u001b[0mchalakim\u001b[0m \u001b[0;34m==\u001b[0m \u001b[0;36m0\u001b[0m \u001b[0;32mand\u001b[0m \u001b[0mthisSeason\u001b[0m\u001b[0;34m.\u001b[0m\u001b[0mhours\u001b[0m \u001b[0;32min\u001b[0m \u001b[0;34m{\u001b[0m\u001b[0;36m0\u001b[0m\u001b[0;34m,\u001b[0m \u001b[0;36m6\u001b[0m\u001b[0;34m,\u001b[0m \u001b[0;36m12\u001b[0m\u001b[0;34m,\u001b[0m \u001b[0;36m18\u001b[0m\u001b[0;34m}\u001b[0m\u001b[0;34m\u001b[0m\u001b[0;34m\u001b[0m\u001b[0m\n\u001b[0m\u001b[1;32m     13\u001b[0m     \u001b[0mthisSeason\u001b[0m \u001b[0;34m=\u001b[0m \u001b[0maYear\u001b[0m\u001b[0;34m.\u001b[0m\u001b[0mseason\u001b[0m\u001b[0;34m(\u001b[0m\u001b[0;36m1\u001b[0m\u001b[0;34m)\u001b[0m\u001b[0;34m\u001b[0m\u001b[0;34m\u001b[0m\u001b[0m\n\u001b[1;32m     14\u001b[0m     \u001b[0;32massert\u001b[0m \u001b[0mthisSeason\u001b[0m\u001b[0;34m.\u001b[0m\u001b[0mchalakim\u001b[0m \u001b[0;34m==\u001b[0m \u001b[0;36m540\u001b[0m \u001b[0;32mand\u001b[0m \u001b[0mthisSeason\u001b[0m\u001b[0;34m.\u001b[0m\u001b[0mhours\u001b[0m \u001b[0;32min\u001b[0m \u001b[0;34m{\u001b[0m\u001b[0;36m7\u001b[0m\u001b[0;34m,\u001b[0m \u001b[0;36m13\u001b[0m\u001b[0;34m,\u001b[0m \u001b[0;36m19\u001b[0m\u001b[0;34m,\u001b[0m \u001b[0;36m1\u001b[0m\u001b[0;34m}\u001b[0m\u001b[0;34m\u001b[0m\u001b[0;34m\u001b[0m\u001b[0m\n",
      "\u001b[0;31mAssertionError\u001b[0m: "
     ]
    }
   ],
   "source": [
    "class SolarYear:\n",
    "    def __init__(self, thisYear: Year) -> None:\n",
    "        self.seasonTime = SOLAR_CYCLE_EXCESS * thisYear.cyclesToYear + SOLAR_YEAR_EXCESS * (thisYear.placeInCycle -1) - SEASON_BEFOR_MOLAD\n",
    "        while self.seasonTime > (LUNAR_MONTH if thisYear.yearsFromCreation > 2338 else LUNAR_MONTH * -1): \n",
    "            self.seasonTime -= LUNAR_MONTH\n",
    "        self.seasonTime += Month(thisYear, 13).molad\n",
    "    def season(self, seasonNumber):\n",
    "        return self.seasonTime + SEASON_LENGTH * seasonNumber\n",
    "for y in range(1, 6000):\n",
    "    aYear = SolarYear(Year(y))\n",
    "    thisSeason = aYear.season(0)\n",
    "    assert thisSeason.chalakim == 0   and thisSeason.hours in {0, 6, 12, 18}\n",
    "    thisSeason = aYear.season(1)\n",
    "    assert thisSeason.chalakim == 540 and thisSeason.hours in {7, 13, 19, 1}\n",
    "    thisSeason = aYear.season(2)\n",
    "    assert thisSeason.chalakim == 0   and thisSeason.hours in {9, 15, 21, 3}\n",
    "    thisSeason = aYear.season(3)\n",
    "    assert thisSeason.chalakim == 540 and thisSeason.hours in {10, 16, 22, 4}\n",
    "    print (y)"
   ]
  },
  {
   "cell_type": "markdown",
   "metadata": {},
   "source": [
    "\n",
    " אִם תִּרְצֶה לֵידַע בְּאֵי זֶה יוֹם מִימֵי הַשָּׁבוּעַ וּבְאֵי זוֹ שָׁעָה תִּהְיֶה הַתְּקוּפָה. קַח שָׁנִים גְּמוּרוֹת שֶׁעָבְרוּ מִשְּׁנַת הַיְצִירָה עַד שָׁנָה שֶׁתִּרְצֶה וְהַשְׁלֵךְ הַכּל כ''ח כ''ח וְהַנִּשְׁאָר יוֹתֵר מִכ''ח קַח לְכָל שָׁנָה יוֹם אֶחָד ו' שָׁעוֹת. וְקַבֵּץ הַכּל וְהוֹסֵיף עָלָיו ג' וְהַשְׁלֵךְ הַכּל ז' ז'. וְהַנִּשְׁאָר מִן הַיָּמִים וּמִן הַשָּׁעוֹת תַּתְחִיל לִמְנוֹת מִתְּחִלַּת לֵיל אֶחָד בְּשַׁבָּת וְלַאֲשֶׁר יַגִּיעַ הַחֶשְׁבּוֹן בּוֹ תִּהְיֶה תְּקוּפַת נִיסָן. וְלָמָּה מוֹסִיפִין שְׁלֹשָׁה לְפִי שֶׁתְּקוּפָה רִאשׁוֹנָה שֶׁל שְׁנַת הַיְצִירָה הָיְתָה בִּתְחִלַּת לֵיל רְבִיעִי:\n",
    "ה\n",
    "כֵּיצַד. הֲרֵי שֶׁרָצִינוּ לֵידַע תְּקוּפַת נִיסָן שֶׁל שְׁנַת תְּשַׁע מֵאוֹת שְׁלֹשִׁים וְאַרְבַּעַת אֲלָפִים לַיְצִירָה. כְּשֶׁתַּשְׁלִיךְ הַכּל כ''ח כ''ח תִּשָּׁאֵר שָׁנָה אַחַת. תִּקַּח לָהּ יוֹם אֶחָד וְשֵׁשׁ שָׁעוֹת וְתוֹסִיף עָלָיו ג' נִמְצֵאת תְּקוּפַת נִיסָן בְּלֵיל חֲמִישִׁי שֵׁשׁ שָׁעוֹת בַּלַּיְלָה. וּכְשֶׁתּוֹסִיף עָלֶיהָ שֶׁבַע שָׁעוֹת וּמֶחֱצָה הֲרֵי תִּהְיֶה תְּקוּפַת תַּמּוּז בְּשָׁעָה וּמֶחֱצָה מִיּוֹם ה'. וּכְשֶׁתּוֹסִיף עָלֶיהָ שֶׁבַע שָׁעוֹת וּמֶחֱצָה תִּהְיֶה תְּקוּפַת תִּשְׁרֵי בְּט' שָׁעוֹת מִיּוֹם ה'. וּכְשֶׁתּוֹסִיף עָלֶיהָ שֶׁבַע שָׁעוֹת וּמֶחֱצָה תִּהְיֶה תְּקוּפַת טֵבֵת בְּד' שָׁעוֹת וּמֶחֱצָה מִלֵּיל ז'. וּכְשֶׁתּוֹסִיף עָלֶיהָ שֶׁבַע שָׁעוֹת וּמֶחֱצָה תִּהְיֶה תְּקוּפַת נִיסָן הַבָּאָה בִּתְחִלַּת יוֹם ו'. וְעַל דֶּרֶךְ זוֹ עַד סוֹף הָעוֹלָם תְּקוּפָה אַחַר תְּקוּפָה:\n",
    "ו\n",
    "אִם תִּרְצֶה לֵידַע בְּכַמָּה יוֹם בַּחֹדֶשׁ תִּהְיֶה תְּקוּפַת נִיסָן שֶׁל שָׁנָה זוֹ. תֵּדַע תְּחִלָּה בְּאֵי זֶה יוֹם מִימֵי הַשָּׁבוּעַ תִּהְיֶה וּבְאֵי זֶה יוֹם יִקְבְּעוּ נִיסָן שֶׁל שָׁנָה זוֹ וְכַמָּה שָׁנִים גְּמוּרוֹת עָבְרוּ מִן הַמַּחֲזוֹר. וְתִקַּח לְכָל שָׁנָה אַחַד עָשָׂר יוֹם וְתוֹסִיף עַל סִכּוּם הַיָּמִים ז' יָמִים בִּזְמַנִּים אֵלּוּ. וְהַשְׁלֵךְ הַכּל ל' ל' וְהַנִּשְׁאָר פָּחוֹת מִל' תַּתְחִיל לִמְנוֹתוֹ מֵרֹאשׁ חֹדֶשׁ נִיסָן. אִם יַגִּיעַ לְיוֹם הַתְּקוּפָה מוּטָב וְאִם לָאו הוֹסֵיף יוֹם אוֹ שְׁנֵי יָמִים אוֹ שְׁלֹשָׁה יָמִים עַל הַמִּנְיָן עַד שֶׁיַּגִּיעַ לְיוֹם הַתְּקוּפָה. וְאִם תִּהְיֶה הַשָּׁנָה מְעֵבֶּרֶת תַּתְחִיל לִמְנוֹת מֵרֹאשׁ חֹדֶשׁ אֲדָר שֵׁנִי וְלַיּוֹם שֶׁיַּגִּיעַ הַחֶשְׁבּוֹן בְּאוֹתוֹ הַיּוֹם מִן הַחֹדֶשׁ תִּהְיֶה הַתְּקוּפָה:\n",
    "ז\n",
    "כֵּיצַד. הֲרֵי שֶׁרָצִינוּ לֵידַע בְּכַמָּה בַּחֹדֶשׁ תִּהְיֶה תְּקוּפַת נִיסָן שֶׁל שְׁנַת תתק''ל. שֶׁהִיא שָׁנָה תְּשִׁיעִית מִמַּחֲזוֹר ר''ס. מָצָאנוּ רֹאשׁ חֹדֶשׁ נִיסָן נִקְבָּע בָּהּ בַּחֲמִישִׁי וּתְקוּפַת נִיסָן בַּחֲמִישִׁי. וּלְפִי שֶׁהָיְתָה שָׁנָה זוֹ תְּשִׁיעִית לַמַּחֲזוֹר יִהְיוּ הַשָּׁנִים הַגְּמוּרוֹת שְׁמוֹנֶה. כְּשֶׁתִּקַּח לְכָל שָׁנָה מֵהֶן י''א יוֹם יִהְיוּ כָּל הַיָּמִים פ''ח. תּוֹסִיף ז' הֲרֵי הַכּל צ''ה. תַּשְׁלִיךְ הַכּל ל' ל' נִשְׁאֲרוּ ה' יָמִים. כְּשֶׁתַּתְחִיל לִמְנוֹת ה' יָמִים מֵרֹאשׁ חֹדֶשׁ נִיסָן שֶׁהָיָה בַּחֲמִישִׁי יַגִּיעַ הַחֶשְׁבּוֹן לְיוֹם שֵׁנִי. וּכְבָר יָדַעְנוּ שֶׁאֵין הַתְּקוּפָה בְּשֵׁנִי בְּשַׁבָּת אֶלָּא בַּחֲמִישִׁי. לְפִיכָךְ תּוֹסִיף יוֹם אַחַר יוֹם עַד שֶׁתַּגִּיעַ לַחֲמִישִׁי שֶׁהוּא יוֹם הַתְּקוּפָה. נִמְצֵאת תְּקוּפַת נִיסָן בְּשָׁנָה זוֹ בְּיוֹם שְׁמִינִי מֵחֹדֶשׁ נִיסָן. וְעַל הַדֶּרֶךְ הַזֹּאת תַּעֲשֶׂה בְּכָל שָׁנָה וְשָׁנָה:\n",
    "ח\n",
    "זֶה שֶׁאָמַרְנוּ תּוֹסִיף יוֹם אַחַר יוֹם עַד שֶׁתַּגִּיעַ לְיוֹם הַתְּקוּפָה. לְעוֹלָם לֹא תִּהְיֶה צָרִיךְ לְהוֹסִיף אֶלָּא יוֹם אֶחָד אוֹ ב' אוֹ ג'. וּפֶלֶא גָּדוֹל הוּא שֶׁתִּהְיֶה צָרִיךְ לְהוֹסִיף אַרְבָּעָה יָמִים. וְאִם מָצָאתָ שֶׁאַתָּה צָרִיךְ לְהוֹסִיף עַל זֶה תֵּדַע שֶׁטָּעִיתָ בַּחֶשְׁבּוֹן וְתַחֲזֹר וְתַחְשֹׁב בְּדִקְדּוּק:\n"
   ]
  }
 ],
 "metadata": {
  "interpreter": {
   "hash": "e7370f93d1d0cde622a1f8e1c04877d8463912d04d973331ad4851f04de6915a"
  },
  "kernelspec": {
   "display_name": "Python 3.9.9 64-bit",
   "language": "python",
   "name": "python3"
  },
  "language_info": {
   "codemirror_mode": {
    "name": "ipython",
    "version": 3
   },
   "file_extension": ".py",
   "mimetype": "text/x-python",
   "name": "python",
   "nbconvert_exporter": "python",
   "pygments_lexer": "ipython3",
   "version": "3.9.9"
  },
  "orig_nbformat": 4
 },
 "nbformat": 4,
 "nbformat_minor": 2
}
