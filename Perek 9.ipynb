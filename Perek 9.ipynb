{
 "cells": [
  {
   "cell_type": "markdown",
   "metadata": {},
   "source": [
    "# פרק ט׳\n",
    "(א)\n",
    "**שְׁנַּת הַחַמָּה**\n",
    "* יֵשׁ מֵחַכְמֵי יִשְׂרָאֵל שֶׁאוֹמְרִים שֶׁהִיא שְׁסַ''ה יוֹם וּרְבִיעַ יוֹם שֶׁהוּא שֵׁשׁ שָׁעוֹת.\n",
    "* וְיֵשׁ מֵהֶן שֶׁאוֹמְרִים שֶׁהוּא פָּחוֹת מֵרְבִיעַ הַיּוֹם.\n",
    "\n",
    " וְכֵן חַכְמֵי יָוָן וּפָרַס יֵשׁ בֵּינֵיהֶן מַחֲלֹקֶת בְּדָבָר זֶה:"
   ]
  },
  {
   "cell_type": "code",
   "execution_count": 1,
   "metadata": {},
   "outputs": [],
   "source": [
    "from timeMeasures import *\n",
    "SOLAR_YEAR = TimeInterval(365.25)"
   ]
  },
  {
   "cell_type": "markdown",
   "metadata": {},
   "source": [
    "(ב)\n",
    "מִי שֶׁהוּא אוֹמֵר שֶׁהִיא שְׁסַ''ה יוֹם וּרְבִיעַ יוֹם.\n",
    "* **יִשָּׁאֵר מִכָּל מַחֲזוֹר** שֶׁל תְּשַׁע עֶשְׂרֵה שָׁנָה שָׁעָה אַחַת וְתפ''ה חֲלָקִים כְּמוֹ שֶׁאָמַרְנוּ.\n",
    "* וְיִהְיֶה **בֵּין תְּקוּפָה לִתְקוּפָה** אֶחָד וְתִשְׁעִים יוֹם וְשֶׁבַע שָׁעוֹת וַחֲצִי שָׁעָה.\n",
    "* וּמִשֶּׁתֵּדַע תְּקוּפָה אַחַת בְּאֵי זֶה יוֹם בְּאֵיזוֹ שָׁעָה הִיא תַּתְחִיל לִמְנוֹת מִמֶּנָּה לַתְּקוּפָה הַשְּׁנִיָּה שֶׁאַחֲרֶיהָ וּמִן הַשְּׁנִיָּה לַשְּׁלִישִׁית עַד סוֹף הָעוֹלָם:"
   ]
  },
  {
   "cell_type": "code",
   "execution_count": 2,
   "metadata": {},
   "outputs": [
    {
     "name": "stdout",
     "output_type": "stream",
     "text": [
      "0  1  485\n",
      "91  7  540\n"
     ]
    }
   ],
   "source": [
    "from calendarUnits import *\n",
    "SOLAR_CYCLE = SOLAR_YEAR * CYCLE_YEARS\n",
    "SOLAR_CYCLE_EXCESS = SOLAR_CYCLE - CYCLE\n",
    "print(SOLAR_CYCLE_EXCESS)\n",
    "SEASON_LENGTH = SOLAR_YEAR // 4\n",
    "print(SEASON_LENGTH)"
   ]
  },
  {
   "cell_type": "markdown",
   "metadata": {},
   "source": [
    "(ג)\n",
    "* תְּקוּפַת נִיסָן הִיא הַשָּׁעָה וְהַחֵלֶק שֶׁתִּכָּנֵס בּוֹ הַשֶּׁמֶשׁ בְּרֹאשׁ מַזַּל טָלֶה.\n",
    "* וּתְקוּפַת תַּמּוּז הֱיוֹת הַשֶּׁמֶשׁ בְּרֹאשׁ מַזַּל סַרְטָן.\n",
    "* וּתְקוּפַת תִּשְׁרֵי הֱיוֹת הַשֶּׁמֶשׁ בְּרֹאשׁ מַזַּל מֹאזְנַיִם.\n",
    "* וּתְקוּפַת טֵבֵת הֱיוֹת הַשֶּׁמֶשׁ בְּרֹאשׁ מַזַּל גְּדִי.\n",
    "\n",
    "**וּתְקוּפַת נִיסָן הָיְתָה בַּשָּׁנָה הָרִאשׁוֹנָה** שֶׁל יְצִירָה לְפִי חֶשְׁבּוֹן זֶה קֹדֶם מוֹלַד נִיסָן בְּשִׁבְעָה יָמִים וְתֵשַׁע שָׁעוֹת וְתרמ''ב חֲלָקִים, סִימָנָהּ ז''ט תרמ''ב:"
   ]
  },
  {
   "cell_type": "code",
   "execution_count": 3,
   "metadata": {},
   "outputs": [],
   "source": [
    "SEASON_BEFOR_MOLAD = TimeInterval(7, 9, 642)"
   ]
  },
  {
   "cell_type": "markdown",
   "metadata": {},
   "source": [
    "Where does (7, 9, 642) come from? If we assume that on the year of creation the season of Tishrei occured on the Wednesday of the week with the molad, and the on that year the Nissan season started at the begining of the night (see halacha 4c), so that the Tishrei season occured at three hours into the day, we can then calculate how long before the molad of Tishrei this season occured, and from that when the season of Nissan was in relation to it's molad. We know that the molad of Tishre was on (6, 14, 0), so the season on (4, 15) was one day and 23 hours before that. Adding the length of two seasons, which is (182, 15), and (1, 23), and then subtracting the length of six months, which is (177, 4, 438) gives (7, 9, 642)."
   ]
  },
  {
   "cell_type": "code",
   "execution_count": 4,
   "metadata": {},
   "outputs": [
    {
     "name": "stdout",
     "output_type": "stream",
     "text": [
      "184 14    0\n",
      "177  4  438\n",
      "7  9  642\n"
     ]
    }
   ],
   "source": [
    "print(SEASON_LENGTH * 2 + (1, 23))\n",
    "print(LUNAR_MONTH * 6)\n",
    "print(SEASON_LENGTH * 2 + (1, 23) - LUNAR_MONTH * 6)"
   ]
  },
  {
   "cell_type": "markdown",
   "metadata": {},
   "source": [
    "(ד)\n",
    "דֶּרֶךְ חֶשְׁבּוֹן הַתְּקוּפָה כָּךְ הִיא.\n",
    "* תֵּדַע תְּחִלָּה כַּמָּה מַחֲזוֹרִין שְׁלֵמִים מִשְּׁנַת הַיְצִירָה עַד מַחֲזוֹר שֶׁתִּרְצֶה.\n",
    "* וְקַח לְכָל מַחֲזוֹר מֵהֶן שָׁעָה אַחַת וְתפ''ה חֲלָקִים.\n",
    "* קַבֵּץ כָּל הַחֲלָקִים שָׁעוֹת וְכָל הַשָּׁעוֹת יָמִים\n",
    "* וְתִגְרַע מִן הַכּל שִׁבְעָה יָמִים וְתֵשַׁע שָׁעוֹת וְתרמ''ב חֲלָקִים.\n",
    "* וְהַשְּׁאָר תּוֹסִיף אוֹתוֹ עַל מוֹלַד נִיסָן שֶׁל שָׁנָה רִאשׁוֹנָה מִן הַמַּחֲזוֹר.\n",
    "\n",
    "יֵצֵא לְךָ בְּאֵי זוֹ שָׁעָה וּבְכַמָּה בַּחֹדֶשׁ תִּהְיֶה תְּקוּפַת נִיסָן שֶׁל אוֹתָהּ הַשָּׁנָה מִן הַמַּחֲזוֹר.\n",
    "\n",
    "וּמִמֶּנָּה תַּתְחִיל לִמְנוֹת אֶחָד וְתִשְׁעִים יוֹם וְשֶׁבַע שָׁעוֹת וּמֶחֱצָה לְכָל תְּקוּפָה וּתְקוּפָה."
   ]
  },
  {
   "cell_type": "code",
   "execution_count": 5,
   "metadata": {},
   "outputs": [
    {
     "name": "stdout",
     "output_type": "stream",
     "text": [
      "1 1\n",
      "0  1  485\n",
      "-8 15  923\n",
      "7  2  157\n",
      "-8 18    0\n",
      "84  1  540\n",
      "175  9    0\n"
     ]
    }
   ],
   "source": [
    "aYear = Year(20)\n",
    "print(aYear.cyclesToYear, aYear.placeInCycle)\n",
    "if aYear.placeInCycle == 1:\n",
    "    seasonTime = SOLAR_CYCLE_EXCESS * aYear.cyclesToYear\n",
    "    print(seasonTime)\n",
    "    seasonTime -= SEASON_BEFOR_MOLAD\n",
    "    print(seasonTime)\n",
    "    thisMolad = Month(aYear, 1).molad\n",
    "    print(thisMolad)\n",
    "    seasonTime += (0, thisMolad.hours, thisMolad.parts)\n",
    "    print(seasonTime)\n",
    "    seasonTime += SEASON_LENGTH\n",
    "    print(seasonTime)\n",
    "    seasonTime += SEASON_LENGTH\n",
    "    print(seasonTime)"
   ]
  },
  {
   "cell_type": "markdown",
   "metadata": {},
   "source": [
    " וְאִם תִּרְצֶה לֵידַע תְּקוּפַת נִיסָן שֶׁל שָׁנָה זוֹ שֶׁהִיא שְׁנַת כָּךְ וְכָךְ בַּמַּחֲזוֹר שֶׁאַתָּה עוֹמֵד בּוֹ.\n",
    " * קַח לְכָל הַמַּחֲזוֹרִין הַשְּׁלֵמִים שָׁעָה וְתפ''ה לְכָל מַחֲזוֹר. וּלְכָל הַשָּׁנִים הַגְּמוּרוֹת שֶׁשָּׁלְמוּ מִן הַמַּחֲזוֹר עֲשָׂרָה יָמִים וְכ''א שָׁעוֹת וְר''ד חֲלָקִים לְכָל שָׁנָה וְקַבֵּץ הַכּל.\n",
    " * וְתִגְרַע מִמֶּנּוּ ז' יָמִים וְט' שָׁעוֹת וְתרמ''ב חֲלָקִים.\n",
    " * וְהַשְּׁאָר תַּשְׁלִיכֵם חָדְשֵׁי הַלְּבָנָה כ''ט יוֹם וְי''ב שָׁעוֹת וְז' מֵאוֹת וְצ''ג חֲלָקִים.\n",
    " * וְהַנִּשְׁאָר פָּחוֹת מֵחֹדֶשׁ הַלְּבָנָה תּוֹסִיף אוֹתוֹ עַל מוֹלַד נִיסָן שֶׁל אוֹתָהּ הַשָּׁנָה.\n",
    " * וְתֵדַע זְמַן תְּקוּפַת נִיסָן שֶׁל אוֹתָהּ הַשָּׁנָה בְּכַמָּה יוֹם בַּחֹדֶשׁ הִיא וּבְכַמָּה שָׁעָה."
   ]
  },
  {
   "cell_type": "code",
   "execution_count": 6,
   "metadata": {},
   "outputs": [
    {
     "name": "stdout",
     "output_type": "stream",
     "text": [
      "Year PiC  month     molad       season\n",
      "4920  18  Nissan    4 17 1002   16 18    0\n",
      "4921  19  Addar II  2  2  798   27  0    0\n",
      "4922   1  Nissan    1  0  307    8  6    0\n",
      "4923   2  Nissan    5  9  103   19 12    0\n",
      "4924   3  Nissan    4  6  692    0 18    0\n",
      "4925   4  Nissan    1 15  488   12  0    0\n",
      "4926   5  Nissan    6  0  284   22  6    0\n",
      "4927   6  Nissan    4 21  873    4 12    0\n",
      "4928   7  Nissan    2  6  669   14 18    0\n",
      "4929   8  Addar II  6 15  465   26  0    0\n",
      "4930   9  Nissan    5 12 1054    7  6    0\n",
      "4931  10  Nissan    2 21  850   18 12    0\n",
      "4932  11  Addar II  7  6  646   28 18    0\n",
      "4933  12  Nissan    6  4  155   10  0    0\n",
      "4934  13  Nissan    3 12 1031   21  6    0\n",
      "4935  14  Nissan    2 10  540    2 12    0\n",
      "4936  15  Nissan    6 19  336   13 18    0\n",
      "4937  16  Nissan    4  4  132   24  0    0\n",
      "4938  17  Nissan    3  1  721    5  6    0\n"
     ]
    }
   ],
   "source": [
    "SOLAR_YEAR_EXCESS = SOLAR_YEAR - LUNAR_YEAR\n",
    "print(\"Year PiC  month     molad       season\")\n",
    "for (n) in range (4922, 4941):\n",
    "    aYear = Year(n)\n",
    "    season_offset = SOLAR_CYCLE_EXCESS * aYear.cyclesToYear + SOLAR_YEAR_EXCESS * (aYear.placeInCycle -1)\n",
    "    season_offset -= SEASON_BEFOR_MOLAD\n",
    "    while season_offset > (LUNAR_MONTH):\n",
    "        season_offset -= LUNAR_MONTH\n",
    "    thisMonth = Month(aYear, 1)\n",
    "    season_time = season_offset + (0, thisMonth.molad.hours, thisMonth.molad.parts)\n",
    "    if season_time.parts != 0 and aYear.placeInCycle in LEAP_YEARS:   #See halacha 6\n",
    "        thisMonth = Month(aYear, 13)\n",
    "        season_time = season_offset + (0, thisMonth.molad.hours, thisMonth.molad.parts)\n",
    "    if season_time.parts != 0:  # The tekufa is before the molad\n",
    "        season_offset -= LUNAR_MONTH\n",
    "        season_offset = season_offset + (0, thisMonth.molad.hours, thisMonth.molad.parts)\n",
    "    print(f\"{n:>4}  {aYear.placeInCycle:>2}  {thisMonth.name:<8}  {thisMonth.molad}   {(str(season_time)):>10}\")"
   ]
  },
  {
   "cell_type": "markdown",
   "metadata": {},
   "source": [
    "* תְּקוּפַת נִיסָן לְפִי חֶשְׁבּוֹן זֶה אֵינָהּ לְעוֹלָם אֶלָּא אוֹ בִּתְחִלַּת הַלַּיְלָה אוֹ בַּחֲצִי הַלַּיְלָה אוֹ בִּתְחִלַּת הַיּוֹם אוֹ בַּחֲצִי הַיּוֹם.\n",
    "* וּתְקוּפַת תַּמּוּז לְעוֹלָם אֵינָהּ אֶלָּא אוֹ בְּז' שָׁעוֹת וּמֶחֱצָה אוֹ בְּשָׁעָה אַחַת וּמֶחֱצָה בֵּין בַּיּוֹם בֵּין בַּלַּיְלָה.\n",
    "* וּתְקוּפַת תִּשְׁרֵי לְעוֹלָם אֵינָהּ אֶלָּא אוֹ בְּט' שָׁעוֹת אוֹ בְּג' שָׁעוֹת בֵּין בַּיּוֹם בֵּין בַּלַּיְלָה.\n",
    "* וּתְקוּפַת טֵבֵת לְעוֹלָם אֵינָהּ אֶלָּא אוֹ בְּי' שָׁעוֹת וּמֶחֱצָה אוֹ בְּאַרְבַּע שָׁעוֹת וּמֶחֱצָה בֵּין בַּיּוֹם בֵּין בַּלַּיְלָה."
   ]
  },
  {
   "cell_type": "code",
   "execution_count": 7,
   "metadata": {},
   "outputs": [],
   "source": [
    "class SolarYear:\n",
    "    def __init__(self, thisYear: Year) -> None:\n",
    "        season_offset = SOLAR_CYCLE_EXCESS * thisYear.cyclesToYear + SOLAR_YEAR_EXCESS * (thisYear.placeInCycle -1) - SEASON_BEFOR_MOLAD\n",
    "        while season_offset > LUNAR_MONTH: \n",
    "            season_offset -= LUNAR_MONTH\n",
    "        thisMonth = Month(thisYear, 1)\n",
    "        self.season_time = season_offset + (0, thisMonth.molad.hours, thisMonth.molad.parts)\n",
    "        if self.season_time.parts != 0:\n",
    "            if thisYear.placeInCycle in LEAP_YEARS:\n",
    "                thisMonth = Month(thisYear, 13)\n",
    "            else:\n",
    "                season_offset -= LUNAR_MONTH\n",
    "            self.season_time = season_offset + (0, thisMonth.molad.hours, thisMonth.molad.parts)\n",
    "    def season(self, seasonNumber):\n",
    "        return self.season_time + SEASON_LENGTH * seasonNumber\n",
    "for y in range(1, 6000):\n",
    "    aYear = SolarYear(Year(y))\n",
    "    thisSeason = aYear.season(0)\n",
    "    assert thisSeason.parts == 0   and thisSeason.hours in {0, 6, 12, 18}\n",
    "    thisSeason = aYear.season(1)\n",
    "    assert thisSeason.parts == 540 and thisSeason.hours in {7, 13, 19, 1}\n",
    "    thisSeason = aYear.season(2)\n",
    "    assert thisSeason.parts == 0   and thisSeason.hours in {9, 15, 21, 3}\n",
    "    thisSeason = aYear.season(3)\n",
    "    assert thisSeason.parts == 540 and thisSeason.hours in {10, 16, 22, 4}"
   ]
  },
  {
   "cell_type": "markdown",
   "metadata": {},
   "source": [
    "\n",
    " אִם תִּרְצֶה לֵידַע בְּאֵי זֶה יוֹם מִימֵי הַשָּׁבוּעַ וּבְאֵי זוֹ שָׁעָה תִּהְיֶה הַתְּקוּפָה.\n",
    " * קַח שָׁנִים גְּמוּרוֹת שֶׁעָבְרוּ מִשְּׁנַת הַיְצִירָה עַד שָׁנָה שֶׁתִּרְצֶה וְהַשְׁלֵךְ הַכּל כ''ח כ''ח \n",
    " * וְהַנִּשְׁאָר יוֹתֵר מִכ''ח קַח לְכָל שָׁנָה יוֹם אֶחָד ו' שָׁעוֹת. וְקַבֵּץ הַכּל \n",
    " * וְהוֹסֵיף עָלָיו ג'\n",
    " * וְהַשְׁלֵךְ הַכּל ז' ז'.\n",
    " * וְהַנִּשְׁאָר מִן הַיָּמִים וּמִן הַשָּׁעוֹת תַּתְחִיל לִמְנוֹת מִתְּחִלַּת לֵיל אֶחָד בְּשַׁבָּת\n",
    " * וְלַאֲשֶׁר יַגִּיעַ הַחֶשְׁבּוֹן בּוֹ תִּהְיֶה תְּקוּפַת נִיסָן. \n",
    " \n",
    " וְלָמָּה מוֹסִיפִין שְׁלֹשָׁה לְפִי שֶׁתְּקוּפָה רִאשׁוֹנָה שֶׁל שְׁנַת הַיְצִירָה הָיְתָה בִּתְחִלַּת לֵיל רְבִיעִי:\n"
   ]
  },
  {
   "cell_type": "code",
   "execution_count": 8,
   "metadata": {},
   "outputs": [],
   "source": [
    "aYear = Year(n)\n",
    "season_time_of_week = (aYear.yearsFromCreation -1) % 28 * TimeInWeek(1, 6) + (3,) +(1,) #Start with 1, not 0"
   ]
  },
  {
   "cell_type": "markdown",
   "metadata": {},
   "source": [
    "(ה)\n",
    "כֵּיצַד. הֲרֵי שֶׁרָצִינוּ לֵידַע תְּקוּפַת נִיסָן שֶׁל שְׁנַת תְּשַׁע מֵאוֹת שְׁלֹשִׁים וְאַרְבַּעַת אֲלָפִים לַיְצִירָה.\n",
    "* כְּשֶׁתַּשְׁלִיךְ הַכּל כ''ח כ''ח תִּשָּׁאֵר שָׁנָה אַחַת.\n",
    "* תִּקַּח לָהּ יוֹם אֶחָד וְשֵׁשׁ שָׁעוֹת וְתוֹסִיף עָלָיו ג' נִמְצֵאת תְּקוּפַת נִיסָן בְּלֵיל חֲמִישִׁי שֵׁשׁ שָׁעוֹת בַּלַּיְלָה.\n",
    "* וּכְשֶׁתּוֹסִיף עָלֶיהָ שֶׁבַע שָׁעוֹת וּמֶחֱצָה הֲרֵי תִּהְיֶה תְּקוּפַת תַּמּוּז בְּשָׁעָה וּמֶחֱצָה מִיּוֹם ה'.\n",
    "* וּכְשֶׁתּוֹסִיף עָלֶיהָ שֶׁבַע שָׁעוֹת וּמֶחֱצָה תִּהְיֶה תְּקוּפַת תִּשְׁרֵי בְּט' שָׁעוֹת מִיּוֹם ה'.\n",
    "* וּכְשֶׁתּוֹסִיף עָלֶיהָ שֶׁבַע שָׁעוֹת וּמֶחֱצָה תִּהְיֶה תְּקוּפַת טֵבֵת בְּד' שָׁעוֹת וּמֶחֱצָה מִלֵּיל ו'.\n",
    "* וּכְשֶׁתּוֹסִיף עָלֶיהָ שֶׁבַע שָׁעוֹת וּמֶחֱצָה תִּהְיֶה תְּקוּפַת נִיסָן הַבָּאָה בִּתְחִלַּת יוֹם ו'.\n",
    "\n",
    " וְעַל דֶּרֶךְ זוֹ עַד סוֹף הָעוֹלָם תְּקוּפָה אַחַר תְּקוּפָה:\n"
   ]
  },
  {
   "cell_type": "code",
   "execution_count": 9,
   "metadata": {},
   "outputs": [
    {
     "name": "stdout",
     "output_type": "stream",
     "text": [
      "1\n",
      "5  6    0\n",
      "5 13  540\n",
      "5 21    0\n",
      "6  4  540\n",
      "6 12    0\n"
     ]
    }
   ],
   "source": [
    "aYear = Year(4930)\n",
    "place_in_long_cycle = (aYear.yearsFromCreation -1) % 28\n",
    "print(place_in_long_cycle)\n",
    "season_time_of_week = place_in_long_cycle * TimeInWeek(1, 6) + (3,) +(1,)\n",
    "print(season_time_of_week)\n",
    "season1_time_of_week = season_time_of_week + (0, 7.5)\n",
    "print(season1_time_of_week)\n",
    "season2_time_of_week = season1_time_of_week + (0, 7.5)\n",
    "print(season2_time_of_week)\n",
    "season3_time_of_week = season2_time_of_week + (0, 7.5)\n",
    "print(season3_time_of_week)\n",
    "season4_time_of_week = season3_time_of_week + (0, 7.5)\n",
    "print(season4_time_of_week)"
   ]
  },
  {
   "cell_type": "markdown",
   "metadata": {},
   "source": [
    "(ו)\n",
    "אִם תִּרְצֶה לֵידַע בְּכַמָּה יוֹם בַּחֹדֶשׁ תִּהְיֶה תְּקוּפַת נִיסָן שֶׁל שָׁנָה זוֹ.\n",
    "* תֵּדַע תְּחִלָּה בְּאֵי זֶה יוֹם מִימֵי הַשָּׁבוּעַ תִּהְיֶה\n",
    "* וּבְאֵי זֶה יוֹם יִקְבְּעוּ נִיסָן שֶׁל שָׁנָה זוֹ\n",
    "* וְכַמָּה שָׁנִים גְּמוּרוֹת עָבְרוּ מִן הַמַּחֲזוֹר.\n",
    "* וְתִקַּח לְכָל שָׁנָה אַחַד עָשָׂר יוֹם\n",
    "* וְתוֹסִיף עַל סִכּוּם הַיָּמִים ז' יָמִים בִּזְמַנִּים אֵלּוּ.\n",
    "* וְהַשְׁלֵךְ הַכּל ל' ל'\n",
    "* וְהַנִּשְׁאָר פָּחוֹת מִל' תַּתְחִיל לִמְנוֹתוֹ מֵרֹאשׁ חֹדֶשׁ נִיסָן. אִם יַגִּיעַ לְיוֹם הַתְּקוּפָה מוּטָב\n",
    "* וְאִם לָאו הוֹסֵיף יוֹם אוֹ שְׁנֵי יָמִים אוֹ שְׁלֹשָׁה יָמִים עַל הַמִּנְיָן עַד שֶׁיַּגִּיעַ לְיוֹם הַתְּקוּפָה.\n",
    "* וְאִם תִּהְיֶה הַשָּׁנָה מְעֵבֶּרֶת תַּתְחִיל לִמְנוֹת מֵרֹאשׁ חֹדֶשׁ אֲדָר שֵׁנִי \n",
    "\n",
    "וְלַיּוֹם שֶׁיַּגִּיעַ הַחֶשְׁבּוֹן בְּאוֹתוֹ הַיּוֹם מִן הַחֹדֶשׁ תִּהְיֶה הַתְּקוּפָה:\n"
   ]
  },
  {
   "cell_type": "code",
   "execution_count": 10,
   "metadata": {},
   "outputs": [],
   "source": [
    "Rosh_Chodesh_day = Month(aYear, 1).day_of_week()\n",
    "season_offset_days = aYear.placeInCycle * 11 + 7\n",
    "while season_offset_days > 30:\n",
    "    season_offset_days -= 30\n",
    "while (Rosh_Chodesh_day + season_offset_days) % 7 != season_time_of_week.days:\n",
    "    season_offset_days += 1"
   ]
  },
  {
   "cell_type": "markdown",
   "metadata": {},
   "source": [
    "(ז)\n",
    "כֵּיצַד. הֲרֵי שֶׁרָצִינוּ לֵידַע בְּכַמָּה בַּחֹדֶשׁ תִּהְיֶה תְּקוּפַת נִיסָן שֶׁל שְׁנַת תתק''ל. שֶׁהִיא שָׁנָה תְּשִׁיעִית מִמַּחֲזוֹר ר''ס.\n",
    "* מָצָאנוּ רֹאשׁ חֹדֶשׁ נִיסָן נִקְבָּע בָּהּ בַּחֲמִישִׁי וּתְקוּפַת נִיסָן בַּחֲמִישִׁי.\n",
    "* וּלְפִי שֶׁהָיְתָה שָׁנָה זוֹ תְּשִׁיעִית לַמַּחֲזוֹר יִהְיוּ הַשָּׁנִים הַגְּמוּרוֹת שְׁמוֹנֶה. כְּשֶׁתִּקַּח לְכָל שָׁנָה מֵהֶן י''א יוֹם יִהְיוּ כָּל הַיָּמִים פ''ח.\n",
    "* תּוֹסִיף ז' הֲרֵי הַכּל צ''ה.\n",
    "* תַּשְׁלִיךְ הַכּל ל' ל' נִשְׁאֲרוּ ה' יָמִים.\n",
    "* כְּשֶׁתַּתְחִיל לִמְנוֹת ה' יָמִים מֵרֹאשׁ חֹדֶשׁ נִיסָן שֶׁהָיָה בַּחֲמִישִׁי יַגִּיעַ הַחֶשְׁבּוֹן לְיוֹם שֵׁנִי. וּכְבָר יָדַעְנוּ שֶׁאֵין הַתְּקוּפָה בְּשֵׁנִי בְּשַׁבָּת אֶלָּא בַּחֲמִישִׁי. לְפִיכָךְ תּוֹסִיף יוֹם אַחַר יוֹם עַד שֶׁתַּגִּיעַ לַחֲמִישִׁי שֶׁהוּא יוֹם הַתְּקוּפָה.\n",
    "* נִמְצֵאת תְּקוּפַת נִיסָן בְּשָׁנָה זוֹ בְּיוֹם שְׁמִינִי מֵחֹדֶשׁ נִיסָן. \n",
    "\n",
    "וְעַל הַדֶּרֶךְ הַזֹּאת תַּעֲשֶׂה בְּכָל שָׁנָה וְשָׁנָה:\n"
   ]
  },
  {
   "cell_type": "code",
   "execution_count": 13,
   "metadata": {},
   "outputs": [
    {
     "name": "stdout",
     "output_type": "stream",
     "text": [
      "259 9\n",
      "5 5\n",
      "88\n",
      "95\n",
      "5\n",
      "8\n"
     ]
    }
   ],
   "source": [
    "aYear = Year(4930)\n",
    "print(aYear.cyclesToYear, aYear.placeInCycle)\n",
    "thisMonth = Month(aYear, 1)\n",
    "print(thisMonth.day_of_week(), season_time_of_week.days)\n",
    "season_offset_days = (aYear.placeInCycle -1) * 11\n",
    "print(season_offset_days)\n",
    "season_offset_days += 7\n",
    "print(season_offset_days)\n",
    "while season_offset_days > 30:\n",
    "    season_offset_days -= 30\n",
    "print(season_offset_days)\n",
    "while (thisMonth.day_of_week() + season_offset_days) % 7 != season_time_of_week.days:\n",
    "    season_offset_days += 1\n",
    "print(season_offset_days + 1)   # The day of the month, counting Rosh Chodesh"
   ]
  },
  {
   "cell_type": "markdown",
   "metadata": {},
   "source": [
    "(ח)\n",
    "זֶה שֶׁאָמַרְנוּ תּוֹסִיף יוֹם אַחַר יוֹם עַד שֶׁתַּגִּיעַ לְיוֹם הַתְּקוּפָה. לְעוֹלָם לֹא תִּהְיֶה צָרִיךְ לְהוֹסִיף אֶלָּא יוֹם אֶחָד אוֹ ב' אוֹ ג'. וּפֶלֶא גָּדוֹל הוּא שֶׁתִּהְיֶה צָרִיךְ לְהוֹסִיף אַרְבָּעָה יָמִים. וְאִם מָצָאתָ שֶׁאַתָּה צָרִיךְ לְהוֹסִיף עַל זֶה תֵּדַע שֶׁטָּעִיתָ בַּחֶשְׁבּוֹן וְתַחֲזֹר וְתַחְשֹׁב בְּדִקְדּוּק:\n"
   ]
  }
 ],
 "metadata": {
  "interpreter": {
   "hash": "e7370f93d1d0cde622a1f8e1c04877d8463912d04d973331ad4851f04de6915a"
  },
  "kernelspec": {
   "display_name": "Python 3.9.9 64-bit",
   "language": "python",
   "name": "python3"
  },
  "language_info": {
   "codemirror_mode": {
    "name": "ipython",
    "version": 3
   },
   "file_extension": ".py",
   "mimetype": "text/x-python",
   "name": "python",
   "nbconvert_exporter": "python",
   "pygments_lexer": "ipython3",
   "version": "3.9.9"
  },
  "orig_nbformat": 4
 },
 "nbformat": 4,
 "nbformat_minor": 2
}
