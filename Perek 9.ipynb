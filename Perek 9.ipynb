{
 "cells": [
  {
   "cell_type": "markdown",
   "metadata": {},
   "source": [
    "# פרק ט׳\n",
    "(א)\n",
    "**שְׁנַּת הַחַמָּה**\n",
    "* יֵשׁ מֵחַכְמֵי יִשְׂרָאֵל שֶׁאוֹמְרִים שֶׁהִיא שְׁסַ''ה יוֹם וּרְבִיעַ יוֹם שֶׁהוּא שֵׁשׁ שָׁעוֹת.\n",
    "* וְיֵשׁ מֵהֶן שֶׁאוֹמְרִים שֶׁהוּא פָּחוֹת מֵרְבִיעַ הַיּוֹם.\n",
    "\n",
    " וְכֵן חַכְמֵי יָוָן וּפָרַס יֵשׁ בֵּינֵיהֶן מַחֲלֹקֶת בְּדָבָר זֶה:"
   ]
  },
  {
   "cell_type": "code",
   "execution_count": 9,
   "metadata": {},
   "outputs": [],
   "source": [
    "from timeMeasures import *\n",
    "SOLAR_YEAR = TimeInterval(365.25)"
   ]
  },
  {
   "cell_type": "markdown",
   "metadata": {},
   "source": [
    "(ב)\n",
    "מִי שֶׁהוּא אוֹמֵר שֶׁהִיא שְׁסַ''ה יוֹם וּרְבִיעַ יוֹם.\n",
    "* **יִשָּׁאֵר מִכָּל מַחֲזוֹר** שֶׁל תְּשַׁע עֶשְׂרֵה שָׁנָה שָׁעָה אַחַת וְתפ''ה חֲלָקִים כְּמוֹ שֶׁאָמַרְנוּ.\n",
    "* וְיִהְיֶה **בֵּין תְּקוּפָה לִתְקוּפָה** אֶחָד וְתִשְׁעִים יוֹם וְשֶׁבַע שָׁעוֹת וַחֲצִי שָׁעָה.\n",
    "* וּמִשֶּׁתֵּדַע תְּקוּפָה אַחַת בְּאֵי זֶה יוֹם בְּאֵיזוֹ שָׁעָה הִיא תַּתְחִיל לִמְנוֹת מִמֶּנָּה לַתְּקוּפָה הַשְּׁנִיָּה שֶׁאַחֲרֶיהָ וּמִן הַשְּׁנִיָּה לַשְּׁלִישִׁית עַד סוֹף הָעוֹלָם:"
   ]
  },
  {
   "cell_type": "code",
   "execution_count": 10,
   "metadata": {},
   "outputs": [
    {
     "name": "stdout",
     "output_type": "stream",
     "text": [
      "0  1  485\n",
      "91  7  540\n"
     ]
    }
   ],
   "source": [
    "from calendarUnits import *\n",
    "SOLAR_CYCLE = SOLAR_YEAR * CYCLE_YEARS\n",
    "SOLAR_CYCLE_EXCESS = SOLAR_CYCLE - CYCLE\n",
    "print(SOLAR_CYCLE_EXCESS)\n",
    "SEASON_LENGTH = SOLAR_YEAR // 4\n",
    "print(SEASON_LENGTH)"
   ]
  },
  {
   "cell_type": "markdown",
   "metadata": {},
   "source": [
    "(ג)\n",
    "* תְּקוּפַת נִיסָן הִיא הַשָּׁעָה וְהַחֵלֶק שֶׁתִּכָּנֵס בּוֹ הַשֶּׁמֶשׁ בְּרֹאשׁ מַזַּל טָלֶה.\n",
    "* וּתְקוּפַת תַּמּוּז הֱיוֹת הַשֶּׁמֶשׁ בְּרֹאשׁ מַזַּל סַרְטָן.\n",
    "* וּתְקוּפַת תִּשְׁרֵי הֱיוֹת הַשֶּׁמֶשׁ בְּרֹאשׁ מַזַּל מֹאזְנַיִם.\n",
    "* וּתְקוּפַת טֵבֵת הֱיוֹת הַשֶּׁמֶשׁ בְּרֹאשׁ מַזַּל גְּדִי.\n",
    "\n",
    "**וּתְקוּפַת נִיסָן הָיְתָה בַּשָּׁנָה הָרִאשׁוֹנָה** שֶׁל יְצִירָה לְפִי חֶשְׁבּוֹן זֶה קֹדֶם מוֹלַד נִיסָן בְּשִׁבְעָה יָמִים וְתֵשַׁע שָׁעוֹת וְתרמ''ב חֲלָקִים, סִימָנָהּ ז''ט תרמ''ב:"
   ]
  },
  {
   "cell_type": "code",
   "execution_count": 11,
   "metadata": {},
   "outputs": [],
   "source": [
    "SEASON_BEFOR_MOLAD = TimeInterval(7, 9, 642)"
   ]
  },
  {
   "cell_type": "markdown",
   "metadata": {},
   "source": [
    "Where does (7, 9, 642) come from? If we assume that on the year of creation the season of Tishrei occured on the Wednesday of the week with the molad, and the on that year the Nissan season started at the begining of the night (see halacha 4c), so that the Tishrei season occured at three hours into the day, we can then calculate how long before the molad of Tishrei this season occured, and from that when the season of Nissan was in relation to it's molad. We know that the molad of Tishre was on (6, 14, 0), so the season on (4, 15) was one day and 23 hours before that. Adding the length of two seasons, which is (182, 15), and (1, 23), and then subtracting the length of six months, which is (177, 4, 438) gives (7, 9, 642)."
   ]
  },
  {
   "cell_type": "code",
   "execution_count": 12,
   "metadata": {},
   "outputs": [
    {
     "name": "stdout",
     "output_type": "stream",
     "text": [
      "184 14    0\n",
      "177  4  438\n",
      "7  9  642\n"
     ]
    }
   ],
   "source": [
    "print(SEASON_LENGTH * 2 + (1, 23))\n",
    "print(LUNAR_MONTH * 6)\n",
    "print(SEASON_LENGTH * 2 + (1, 23) - LUNAR_MONTH * 6)"
   ]
  },
  {
   "cell_type": "markdown",
   "metadata": {},
   "source": [
    "(ד)\n",
    "דֶּרֶךְ חֶשְׁבּוֹן הַתְּקוּפָה כָּךְ הִיא.\n",
    "* תֵּדַע תְּחִלָּה כַּמָּה מַחֲזוֹרִין שְׁלֵמִים מִשְּׁנַת הַיְצִירָה עַד מַחֲזוֹר שֶׁתִּרְצֶה.\n",
    "* וְקַח לְכָל מַחֲזוֹר מֵהֶן שָׁעָה אַחַת וְתפ''ה חֲלָקִים.\n",
    "* קַבֵּץ כָּל הַחֲלָקִים שָׁעוֹת וְכָל הַשָּׁעוֹת יָמִים\n",
    "* וְתִגְרַע מִן הַכּל שִׁבְעָה יָמִים וְתֵשַׁע שָׁעוֹת וְתרמ''ב חֲלָקִים.\n",
    "* וְהַשְּׁאָר תּוֹסִיף אוֹתוֹ עַל מוֹלַד נִיסָן שֶׁל שָׁנָה רִאשׁוֹנָה מִן הַמַּחֲזוֹר.\n",
    "\n",
    "יֵצֵא לְךָ בְּאֵי זוֹ שָׁעָה וּבְכַמָּה בַּחֹדֶשׁ תִּהְיֶה תְּקוּפַת נִיסָן שֶׁל אוֹתָהּ הַשָּׁנָה מִן הַמַּחֲזוֹר.\n",
    "\n",
    "וּמִמֶּנָּה תַּתְחִיל לִמְנוֹת אֶחָד וְתִשְׁעִים יוֹם וְשֶׁבַע שָׁעוֹת וּמֶחֱצָה לְכָל תְּקוּפָה וּתְקוּפָה."
   ]
  },
  {
   "cell_type": "code",
   "execution_count": 13,
   "metadata": {},
   "outputs": [
    {
     "name": "stdout",
     "output_type": "stream",
     "text": [
      "1 1\n",
      "0  1  485\n",
      "-8 15  923\n",
      "7  2  157\n",
      "-8 18    0\n",
      "84  1  540\n",
      "175  9    0\n"
     ]
    }
   ],
   "source": [
    "aYear = Year(20)\n",
    "print(aYear.cyclesToYear, aYear.placeInCycle)\n",
    "if aYear.placeInCycle == 1:\n",
    "    seasonTime = SOLAR_CYCLE_EXCESS * aYear.cyclesToYear\n",
    "    print(seasonTime)\n",
    "    seasonTime -= SEASON_BEFOR_MOLAD\n",
    "    print(seasonTime)\n",
    "    thisMolad = Month(aYear, 1).molad\n",
    "    print(thisMolad)\n",
    "    seasonTime += (0, thisMolad.hours, thisMolad.parts)\n",
    "    print(seasonTime)\n",
    "    seasonTime += SEASON_LENGTH\n",
    "    print(seasonTime)\n",
    "    seasonTime += SEASON_LENGTH\n",
    "    print(seasonTime)"
   ]
  },
  {
   "cell_type": "markdown",
   "metadata": {},
   "source": [
    " וְאִם תִּרְצֶה לֵידַע תְּקוּפַת נִיסָן שֶׁל שָׁנָה זוֹ שֶׁהִיא שְׁנַת כָּךְ וְכָךְ בַּמַּחֲזוֹר שֶׁאַתָּה עוֹמֵד בּוֹ.\n",
    " * קַח לְכָל הַמַּחֲזוֹרִין הַשְּׁלֵמִים שָׁעָה וְתפ''ה לְכָל מַחֲזוֹר. וּלְכָל הַשָּׁנִים הַגְּמוּרוֹת שֶׁשָּׁלְמוּ מִן הַמַּחֲזוֹר עֲשָׂרָה יָמִים וְכ''א שָׁעוֹת וְר''ד חֲלָקִים לְכָל שָׁנָה וְקַבֵּץ הַכּל.\n",
    " * וְתִגְרַע מִמֶּנּוּ ז' יָמִים וְט' שָׁעוֹת וְתרמ''ב חֲלָקִים.\n",
    " * וְהַשְּׁאָר תַּשְׁלִיכֵם חָדְשֵׁי הַלְּבָנָה כ''ט יוֹם וְי''ב שָׁעוֹת וְז' מֵאוֹת וְצ''ג חֲלָקִים.\n",
    " * וְהַנִּשְׁאָר פָּחוֹת מֵחֹדֶשׁ הַלְּבָנָה תּוֹסִיף אוֹתוֹ עַל מוֹלַד נִיסָן שֶׁל אוֹתָהּ הַשָּׁנָה.\n",
    " * וְתֵדַע זְמַן תְּקוּפַת נִיסָן שֶׁל אוֹתָהּ הַשָּׁנָה בְּכַמָּה יוֹם בַּחֹדֶשׁ הִיא וּבְכַמָּה שָׁעָה."
   ]
  },
  {
   "cell_type": "code",
   "execution_count": 14,
   "metadata": {},
   "outputs": [
    {
     "name": "stdout",
     "output_type": "stream",
     "text": [
      "Year 3310 is 4 in its cycle\n",
      "Molad Nissan is 4  0  673\n",
      "So the tekufa is on day 6 from the molad at 6 0\n",
      "\n",
      "Year 3311 is 5 in its cycle\n",
      "Molad Nissan is 1  9  469\n",
      "So the tekufa is on day 17 from the molad at 12 0\n",
      "\n",
      "Year 3312 is 6 in its cycle\n",
      "Molad Nissan is 7  6 1058\n",
      "So the tekufa is on day 28 from the molad at 6 793\n",
      "Molad Addar II is 5 18  265\n",
      "So the tekufa is on day 28 from the molad at 18 0\n",
      "\n",
      "Year 3313 is 7 in its cycle\n",
      "Molad Nissan is 4 15  854\n",
      "So the tekufa is on day 10 from the molad at 0 0\n",
      "\n",
      "Year 3314 is 8 in its cycle\n",
      "Molad Nissan is 3 13  363\n",
      "So the tekufa is on day 20 from the molad at 18 793\n",
      "Molad Addar II is 2  0  650\n",
      "So the tekufa is on day 20 from the molad at 6 0\n",
      "\n",
      "Year 3315 is 9 in its cycle\n",
      "Molad Nissan is 7 22  159\n",
      "So the tekufa is on day 2 from the molad at 12 0\n",
      "\n",
      "Year 3316 is 10 in its cycle\n",
      "Molad Nissan is 5  6 1035\n",
      "So the tekufa is on day 12 from the molad at 18 0\n",
      "\n",
      "Year 3317 is 11 in its cycle\n",
      "Molad Nissan is 4  4  544\n",
      "So the tekufa is on day 23 from the molad at 12 793\n",
      "Molad Addar II is 2 15  831\n",
      "So the tekufa is on day 24 from the molad at 0 0\n",
      "\n",
      "Year 3318 is 12 in its cycle\n",
      "Molad Nissan is 1 13  340\n",
      "So the tekufa is on day 5 from the molad at 6 0\n",
      "\n",
      "Year 3319 is 13 in its cycle\n",
      "Molad Nissan is 5 22  136\n",
      "So the tekufa is on day 16 from the molad at 12 0\n",
      "\n",
      "Year 3320 is 14 in its cycle\n",
      "Molad Nissan is 4 19  725\n",
      "So the tekufa is on day 27 from the molad at 6 793\n",
      "Molad Addar II is 3  6 1012\n",
      "So the tekufa is on day 26 from the molad at 18 0\n",
      "\n",
      "Year 3321 is 15 in its cycle\n",
      "Molad Nissan is 2  4  521\n",
      "So the tekufa is on day 8 from the molad at 0 0\n",
      "\n",
      "Year 3322 is 16 in its cycle\n",
      "Molad Nissan is 6 13  317\n",
      "So the tekufa is on day 19 from the molad at 6 0\n",
      "\n",
      "Year 3323 is 17 in its cycle\n",
      "Molad Nissan is 5 10  906\n",
      "So the tekufa is on day 0 from the molad at 12 0\n",
      "\n",
      "Year 3324 is 18 in its cycle\n",
      "Molad Nissan is 2 19  702\n",
      "So the tekufa is on day 11 from the molad at 18 0\n",
      "\n",
      "Year 3325 is 19 in its cycle\n",
      "Molad Nissan is 1 17  211\n",
      "So the tekufa is on day 22 from the molad at 12 793\n",
      "Molad Addar II is 7  4  498\n",
      "So the tekufa is on day 22 from the molad at 0 0\n",
      "\n",
      "Year 3326 is 1 in its cycle\n",
      "Molad Nissan is 6  2    7\n",
      "So the tekufa is on day 3 from the molad at 6 0\n",
      "\n",
      "Year 3327 is 2 in its cycle\n",
      "Molad Nissan is 3 10  883\n",
      "So the tekufa is on day 14 from the molad at 12 0\n",
      "\n",
      "Year 3328 is 3 in its cycle\n",
      "Molad Nissan is 2  8  392\n",
      "So the tekufa is on day 25 from the molad at 6 793\n",
      "Molad Addar II is 7 19  679\n",
      "So the tekufa is on day 25 from the molad at 18 0\n",
      "\n"
     ]
    }
   ],
   "source": [
    "SOLAR_YEAR_EXCESS = SOLAR_YEAR - LUNAR_YEAR\n",
    "for (n) in range (3310, 3329):\n",
    "    aYear = Year(n)\n",
    "    print(\"Year\", aYear.yearsFromCreation, \"is\", aYear.placeInCycle, \"in its cycle\")\n",
    "    season_offset = SOLAR_CYCLE_EXCESS * aYear.cyclesToYear + SOLAR_YEAR_EXCESS * (aYear.placeInCycle -1)\n",
    "    season_offset -= SEASON_BEFOR_MOLAD\n",
    "    while season_offset > (LUNAR_MONTH):\n",
    "        season_offset -= LUNAR_MONTH\n",
    "    thisMolad = Month(aYear, 1).molad\n",
    "    print(\"Molad Nissan is\", thisMolad)\n",
    "    season_time = season_offset + (0, thisMolad.hours, thisMolad.parts)\n",
    "    print(\"So the tekufa is on day\", season_time.days, \"from the molad at\", season_time.hours, season_time.parts)\n",
    "    if season_time.parts != 0 and aYear.placeInCycle in LEAP_YEARS:   #See halacha 6\n",
    "        thisMolad = Month(aYear, 13).molad\n",
    "        print(\"Molad Addar II is\", thisMolad)\n",
    "        season_time = season_offset + (0, thisMolad.hours, thisMolad.parts)\n",
    "        print(\"So the tekufa is on day\", season_time.days, \"from the molad at\", season_time.hours, season_time.parts)\n",
    "    if season_time.parts != 0:\n",
    "        #thisMolad = Month(aYear, 1).molad\n",
    "        #print(\"Molad Nissan is\", thisMolad)\n",
    "        season_offset -= LUNAR_MONTH\n",
    "        season_time = season_offset + (0, thisMolad.hours, thisMolad.parts)\n",
    "        print(\"So the tekufa is on day\", season_time.days, \"from the molad at\", season_time.hours, season_time.parts)\n",
    "    print()"
   ]
  },
  {
   "cell_type": "markdown",
   "metadata": {},
   "source": [
    "* תְּקוּפַת נִיסָן לְפִי חֶשְׁבּוֹן זֶה אֵינָהּ לְעוֹלָם אֶלָּא אוֹ בִּתְחִלַּת הַלַּיְלָה אוֹ בַּחֲצִי הַלַּיְלָה אוֹ בִּתְחִלַּת הַיּוֹם אוֹ בַּחֲצִי הַיּוֹם.\n",
    "* וּתְקוּפַת תַּמּוּז לְעוֹלָם אֵינָהּ אֶלָּא אוֹ בְּז' שָׁעוֹת וּמֶחֱצָה אוֹ בְּשָׁעָה אַחַת וּמֶחֱצָה בֵּין בַּיּוֹם בֵּין בַּלַּיְלָה.\n",
    "* וּתְקוּפַת תִּשְׁרֵי לְעוֹלָם אֵינָהּ אֶלָּא אוֹ בְּט' שָׁעוֹת אוֹ בְּג' שָׁעוֹת בֵּין בַּיּוֹם בֵּין בַּלַּיְלָה.\n",
    "* וּתְקוּפַת טֵבֵת לְעוֹלָם אֵינָהּ אֶלָּא אוֹ בְּי' שָׁעוֹת וּמֶחֱצָה אוֹ בְּאַרְבַּע שָׁעוֹת וּמֶחֱצָה בֵּין בַּיּוֹם בֵּין בַּלַּיְלָה."
   ]
  },
  {
   "cell_type": "code",
   "execution_count": 15,
   "metadata": {},
   "outputs": [],
   "source": [
    "class SolarYear:\n",
    "    def __init__(self, thisYear: Year) -> None:\n",
    "        season_offset = SOLAR_CYCLE_EXCESS * thisYear.cyclesToYear + SOLAR_YEAR_EXCESS * (thisYear.placeInCycle -1) - SEASON_BEFOR_MOLAD\n",
    "        while season_offset > LUNAR_MONTH: \n",
    "            season_offset -= LUNAR_MONTH\n",
    "        thisMonth = Month(thisYear, 1)\n",
    "        self.season_time = season_offset + (0, thisMonth.molad.hours, thisMonth.molad.parts)\n",
    "        if self.season_time.parts != 0:\n",
    "            if thisYear.placeInCycle in LEAP_YEARS:\n",
    "                thisMonth = Month(thisYear, 13)\n",
    "            else:\n",
    "                season_offset -= LUNAR_MONTH\n",
    "            self.season_time = season_offset + (0, thisMonth.molad.hours, thisMonth.molad.parts)\n",
    "    def season(self, seasonNumber):\n",
    "        return self.season_time + SEASON_LENGTH * seasonNumber\n",
    "for y in range(1, 6000):\n",
    "    aYear = SolarYear(Year(y))\n",
    "    thisSeason = aYear.season(0)\n",
    "    assert thisSeason.parts == 0   and thisSeason.hours in {0, 6, 12, 18}\n",
    "    thisSeason = aYear.season(1)\n",
    "    assert thisSeason.parts == 540 and thisSeason.hours in {7, 13, 19, 1}\n",
    "    thisSeason = aYear.season(2)\n",
    "    assert thisSeason.parts == 0   and thisSeason.hours in {9, 15, 21, 3}\n",
    "    thisSeason = aYear.season(3)\n",
    "    assert thisSeason.parts == 540 and thisSeason.hours in {10, 16, 22, 4}"
   ]
  },
  {
   "cell_type": "markdown",
   "metadata": {},
   "source": [
    "\n",
    " אִם תִּרְצֶה לֵידַע בְּאֵי זֶה יוֹם מִימֵי הַשָּׁבוּעַ וּבְאֵי זוֹ שָׁעָה תִּהְיֶה הַתְּקוּפָה.\n",
    " * קַח שָׁנִים גְּמוּרוֹת שֶׁעָבְרוּ מִשְּׁנַת הַיְצִירָה עַד שָׁנָה שֶׁתִּרְצֶה וְהַשְׁלֵךְ הַכּל כ''ח כ''ח \n",
    " * וְהַנִּשְׁאָר יוֹתֵר מִכ''ח קַח לְכָל שָׁנָה יוֹם אֶחָד ו' שָׁעוֹת. וְקַבֵּץ הַכּל \n",
    " * וְהוֹסֵיף עָלָיו ג'\n",
    " * וְהַשְׁלֵךְ הַכּל ז' ז'.\n",
    " * וְהַנִּשְׁאָר מִן הַיָּמִים וּמִן הַשָּׁעוֹת תַּתְחִיל לִמְנוֹת מִתְּחִלַּת לֵיל אֶחָד בְּשַׁבָּת\n",
    " * וְלַאֲשֶׁר יַגִּיעַ הַחֶשְׁבּוֹן בּוֹ תִּהְיֶה תְּקוּפַת נִיסָן. \n",
    " \n",
    " וְלָמָּה מוֹסִיפִין שְׁלֹשָׁה לְפִי שֶׁתְּקוּפָה רִאשׁוֹנָה שֶׁל שְׁנַת הַיְצִירָה הָיְתָה בִּתְחִלַּת לֵיל רְבִיעִי:\n"
   ]
  },
  {
   "cell_type": "code",
   "execution_count": 16,
   "metadata": {},
   "outputs": [
    {
     "ename": "TypeError",
     "evalue": "unsupported operand type(s) for *: 'int' and 'TimeInterval'",
     "output_type": "error",
     "traceback": [
      "\u001b[0;31m---------------------------------------------------------------------------\u001b[0m",
      "\u001b[0;31mTypeError\u001b[0m                                 Traceback (most recent call last)",
      "\u001b[0;32m/tmp/ipykernel_127758/1311825842.py\u001b[0m in \u001b[0;36m<module>\u001b[0;34m\u001b[0m\n\u001b[1;32m      1\u001b[0m \u001b[0myear_count\u001b[0m \u001b[0;34m=\u001b[0m \u001b[0;36m4930\u001b[0m\u001b[0;34m\u001b[0m\u001b[0;34m\u001b[0m\u001b[0m\n\u001b[0;32m----> 2\u001b[0;31m \u001b[0mseason_time\u001b[0m \u001b[0;34m=\u001b[0m \u001b[0myear_count\u001b[0m \u001b[0;34m%\u001b[0m \u001b[0;36m28\u001b[0m \u001b[0;34m*\u001b[0m \u001b[0mTimeInterval\u001b[0m\u001b[0;34m(\u001b[0m\u001b[0;36m1\u001b[0m\u001b[0;34m,\u001b[0m \u001b[0;36m6\u001b[0m\u001b[0;34m)\u001b[0m \u001b[0;34m+\u001b[0m \u001b[0;34m(\u001b[0m\u001b[0;36m3\u001b[0m\u001b[0;34m,\u001b[0m\u001b[0;34m)\u001b[0m\u001b[0;34m\u001b[0m\u001b[0;34m\u001b[0m\u001b[0m\n\u001b[0m",
      "\u001b[0;31mTypeError\u001b[0m: unsupported operand type(s) for *: 'int' and 'TimeInterval'"
     ]
    }
   ],
   "source": [
    "year_count = 4930\n",
    "season_time = year_count % 28 * TimeInterval(1, 6) + (3,)"
   ]
  },
  {
   "cell_type": "markdown",
   "metadata": {},
   "source": [
    "ה\n",
    "כֵּיצַד. הֲרֵי שֶׁרָצִינוּ לֵידַע תְּקוּפַת נִיסָן שֶׁל שְׁנַת תְּשַׁע מֵאוֹת שְׁלֹשִׁים וְאַרְבַּעַת אֲלָפִים לַיְצִירָה. כְּשֶׁתַּשְׁלִיךְ הַכּל כ''ח כ''ח תִּשָּׁאֵר שָׁנָה אַחַת. תִּקַּח לָהּ יוֹם אֶחָד וְשֵׁשׁ שָׁעוֹת וְתוֹסִיף עָלָיו ג' נִמְצֵאת תְּקוּפַת נִיסָן בְּלֵיל חֲמִישִׁי שֵׁשׁ שָׁעוֹת בַּלַּיְלָה. וּכְשֶׁתּוֹסִיף עָלֶיהָ שֶׁבַע שָׁעוֹת וּמֶחֱצָה הֲרֵי תִּהְיֶה תְּקוּפַת תַּמּוּז בְּשָׁעָה וּמֶחֱצָה מִיּוֹם ה'. וּכְשֶׁתּוֹסִיף עָלֶיהָ שֶׁבַע שָׁעוֹת וּמֶחֱצָה תִּהְיֶה תְּקוּפַת תִּשְׁרֵי בְּט' שָׁעוֹת מִיּוֹם ה'. וּכְשֶׁתּוֹסִיף עָלֶיהָ שֶׁבַע שָׁעוֹת וּמֶחֱצָה תִּהְיֶה תְּקוּפַת טֵבֵת בְּד' שָׁעוֹת וּמֶחֱצָה מִלֵּיל ז'. וּכְשֶׁתּוֹסִיף עָלֶיהָ שֶׁבַע שָׁעוֹת וּמֶחֱצָה תִּהְיֶה תְּקוּפַת נִיסָן הַבָּאָה בִּתְחִלַּת יוֹם ו'. וְעַל דֶּרֶךְ זוֹ עַד סוֹף הָעוֹלָם תְּקוּפָה אַחַר תְּקוּפָה:\n",
    "ו\n",
    "אִם תִּרְצֶה לֵידַע בְּכַמָּה יוֹם בַּחֹדֶשׁ תִּהְיֶה תְּקוּפַת נִיסָן שֶׁל שָׁנָה זוֹ. תֵּדַע תְּחִלָּה בְּאֵי זֶה יוֹם מִימֵי הַשָּׁבוּעַ תִּהְיֶה וּבְאֵי זֶה יוֹם יִקְבְּעוּ נִיסָן שֶׁל שָׁנָה זוֹ וְכַמָּה שָׁנִים גְּמוּרוֹת עָבְרוּ מִן הַמַּחֲזוֹר. וְתִקַּח לְכָל שָׁנָה אַחַד עָשָׂר יוֹם וְתוֹסִיף עַל סִכּוּם הַיָּמִים ז' יָמִים בִּזְמַנִּים אֵלּוּ. וְהַשְׁלֵךְ הַכּל ל' ל' וְהַנִּשְׁאָר פָּחוֹת מִל' תַּתְחִיל לִמְנוֹתוֹ מֵרֹאשׁ חֹדֶשׁ נִיסָן. אִם יַגִּיעַ לְיוֹם הַתְּקוּפָה מוּטָב וְאִם לָאו הוֹסֵיף יוֹם אוֹ שְׁנֵי יָמִים אוֹ שְׁלֹשָׁה יָמִים עַל הַמִּנְיָן עַד שֶׁיַּגִּיעַ לְיוֹם הַתְּקוּפָה. וְאִם תִּהְיֶה הַשָּׁנָה מְעֵבֶּרֶת תַּתְחִיל לִמְנוֹת מֵרֹאשׁ חֹדֶשׁ אֲדָר שֵׁנִי וְלַיּוֹם שֶׁיַּגִּיעַ הַחֶשְׁבּוֹן בְּאוֹתוֹ הַיּוֹם מִן הַחֹדֶשׁ תִּהְיֶה הַתְּקוּפָה:\n",
    "ז\n",
    "כֵּיצַד. הֲרֵי שֶׁרָצִינוּ לֵידַע בְּכַמָּה בַּחֹדֶשׁ תִּהְיֶה תְּקוּפַת נִיסָן שֶׁל שְׁנַת תתק''ל. שֶׁהִיא שָׁנָה תְּשִׁיעִית מִמַּחֲזוֹר ר''ס. מָצָאנוּ רֹאשׁ חֹדֶשׁ נִיסָן נִקְבָּע בָּהּ בַּחֲמִישִׁי וּתְקוּפַת נִיסָן בַּחֲמִישִׁי. וּלְפִי שֶׁהָיְתָה שָׁנָה זוֹ תְּשִׁיעִית לַמַּחֲזוֹר יִהְיוּ הַשָּׁנִים הַגְּמוּרוֹת שְׁמוֹנֶה. כְּשֶׁתִּקַּח לְכָל שָׁנָה מֵהֶן י''א יוֹם יִהְיוּ כָּל הַיָּמִים פ''ח. תּוֹסִיף ז' הֲרֵי הַכּל צ''ה. תַּשְׁלִיךְ הַכּל ל' ל' נִשְׁאֲרוּ ה' יָמִים. כְּשֶׁתַּתְחִיל לִמְנוֹת ה' יָמִים מֵרֹאשׁ חֹדֶשׁ נִיסָן שֶׁהָיָה בַּחֲמִישִׁי יַגִּיעַ הַחֶשְׁבּוֹן לְיוֹם שֵׁנִי. וּכְבָר יָדַעְנוּ שֶׁאֵין הַתְּקוּפָה בְּשֵׁנִי בְּשַׁבָּת אֶלָּא בַּחֲמִישִׁי. לְפִיכָךְ תּוֹסִיף יוֹם אַחַר יוֹם עַד שֶׁתַּגִּיעַ לַחֲמִישִׁי שֶׁהוּא יוֹם הַתְּקוּפָה. נִמְצֵאת תְּקוּפַת נִיסָן בְּשָׁנָה זוֹ בְּיוֹם שְׁמִינִי מֵחֹדֶשׁ נִיסָן. וְעַל הַדֶּרֶךְ הַזֹּאת תַּעֲשֶׂה בְּכָל שָׁנָה וְשָׁנָה:\n",
    "ח\n",
    "זֶה שֶׁאָמַרְנוּ תּוֹסִיף יוֹם אַחַר יוֹם עַד שֶׁתַּגִּיעַ לְיוֹם הַתְּקוּפָה. לְעוֹלָם לֹא תִּהְיֶה צָרִיךְ לְהוֹסִיף אֶלָּא יוֹם אֶחָד אוֹ ב' אוֹ ג'. וּפֶלֶא גָּדוֹל הוּא שֶׁתִּהְיֶה צָרִיךְ לְהוֹסִיף אַרְבָּעָה יָמִים. וְאִם מָצָאתָ שֶׁאַתָּה צָרִיךְ לְהוֹסִיף עַל זֶה תֵּדַע שֶׁטָּעִיתָ בַּחֶשְׁבּוֹן וְתַחֲזֹר וְתַחְשֹׁב בְּדִקְדּוּק:\n"
   ]
  }
 ],
 "metadata": {
  "interpreter": {
   "hash": "e7370f93d1d0cde622a1f8e1c04877d8463912d04d973331ad4851f04de6915a"
  },
  "kernelspec": {
   "display_name": "Python 3.9.9 64-bit",
   "language": "python",
   "name": "python3"
  },
  "language_info": {
   "codemirror_mode": {
    "name": "ipython",
    "version": 3
   },
   "file_extension": ".py",
   "mimetype": "text/x-python",
   "name": "python",
   "nbconvert_exporter": "python",
   "pygments_lexer": "ipython3",
   "version": "3.9.9"
  },
  "orig_nbformat": 4
 },
 "nbformat": 4,
 "nbformat_minor": 2
}
